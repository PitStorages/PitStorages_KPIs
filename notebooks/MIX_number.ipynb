{
 "cells": [
  {
   "cell_type": "markdown",
   "id": "6bb34075-176d-47ee-867f-d1702ee4a188",
   "metadata": {},
   "source": [
    "# MIX number calculation\n",
    "\n",
    "This script performs a simple calculation of the MIX number for a 1-D storage in order to provide a deeper understaning on how assess stratification of a storage using the MIX number."
   ]
  },
  {
   "cell_type": "code",
   "execution_count": 1,
   "id": "608702d4-db8e-4c78-abc2-20ecabad8cd6",
   "metadata": {},
   "outputs": [],
   "source": [
    "import pandas as pd\n",
    "import numpy as np\n",
    "import matplotlib.pyplot as plt\n",
    "from temperature_profile import temp_profile\n",
    "from matplotlib import animation\n",
    "from matplotlib.animation import FuncAnimation"
   ]
  },
  {
   "cell_type": "markdown",
   "id": "e54a8695-306d-4e58-a42c-0a2944234ae9",
   "metadata": {},
   "source": [
    "Enter the simulation settings."
   ]
  },
  {
   "cell_type": "code",
   "execution_count": 2,
   "id": "c5d6f384-9320-47e5-a931-01efcc8a80b7",
   "metadata": {},
   "outputs": [],
   "source": [
    "# Water proprties\n",
    "density_water = 980 # in kg/m3\n",
    "specific_heat_water = 4200  # in J/(kg K)\n",
    "\n",
    "# Simulation properties\n",
    "simulated_case = '' # Set the case that will be simulated, e.g. \"fully_mixed\", \"fully_stratified\". Otherwise, it simulates storage operation with mixing based on mixing_nodes.\n",
    "heat_loss_coeff = 6 # in W/(m^2 K). This number gives a 90% storage efficiency for the selected settings. Set to 0 for no heat loss.\n",
    "\n",
    "N = 60 # number of tank nodes\n",
    "mix_nodes = int(N/10) # number of nodes close to the inlet that are mixed for imitating inlet jet mixing. Has to be integer!!!\n",
    "\n",
    "T_hot = 90 # charge temperature\n",
    "T_cold = 45 # discharge temperature\n",
    "T_threshold = 10 # temperature threshold for considering the tank full/empty. E.g. if it is 10 degC then the tank is fully when the bottom is at 80 degC\n",
    "T_amb = 10 # ambient temperature for calculatio of heat losses\n",
    "\n",
    "th_cond_coeff = 2.5 # effective vertical thermal conductivity coefficient in W/(m K)\n",
    "simulation_period = 1500 # This period is overwritten based on the maximum number of cycles set below. Has to be a large number!!\n",
    "max_storage_cycles = 2 # stops the simulation after a number of charge-discharge cyles\n",
    "\n",
    "plot = False # Plots the temperature profile in the tank\n",
    "\n",
    "# Storage properties\n",
    "storage_height = 1 # the height of storage in m\n",
    "storage_volume = 1 # the volume of storage in m^3\n",
    "volume_per_layer = 1/N # assuming that the storage is 1-D\n",
    "mass_per_layer = density_water * volume_per_layer # mass per layer\n",
    "storage_mass = density_water * storage_volume # total storage mass"
   ]
  },
  {
   "cell_type": "markdown",
   "id": "3a899c92-0f1e-4a45-b76b-a70966f0389e",
   "metadata": {},
   "source": [
    "Create dataframe containing the temperature profiles for each time step. Rows are the simulation time steps and columns are the layers of the storage starting from the top (0) to the bottom (N).\n",
    "\n",
    "The \"df_ancil\" is a dataframe that contains the calculated heat loss entropy, storage entropy, heat loss (energy), energy rate, energy content, and charge status."
   ]
  },
  {
   "cell_type": "code",
   "execution_count": 3,
   "id": "16a64382-38d8-40e3-9dc4-31cab140d80a",
   "metadata": {},
   "outputs": [],
   "source": [
    "df, df_ancil = temp_profile(simulated_case, N, mix_nodes, T_hot, T_cold, T_threshold, th_cond_coeff, simulation_period,\n",
    "                             heat_loss_coeff, plot=plot, max_storage_cycles=max_storage_cycles, T_amb=T_amb)"
   ]
  },
  {
   "cell_type": "markdown",
   "id": "f3bd6470-0493-41a8-ba05-22050b1b5be3",
   "metadata": {},
   "source": [
    "The MIX number evauates stratification based on the temperature profile in the storage and the energy content of the storage and it is determined using the moment of energy $(M_{E})$. This number is defined as the difference in moment of energy between a perfectly stratified storage and an actual storage, to the difference in moment of energy between a perfeclty stratified storage and a fully mixed one. It is expressed by the following euqation:\n",
    "\n",
    "$$MIX = \\frac{M_{E}^{stratified} - M_{E}^{actual}}{M_{E}^{stratified} - M_{E}^{fully-mixed}} \\tag{1}$$\n",
    "\n",
    "MIX number is a dimensionless number, where $0$ represents a perfeclty stratified tank, while $1$ indicates a fully-mixed tank. For the calculations, the sotrage is divided in to layers based on the number of temperature measurements.The moment of energy $(M_{E})$, is calculated by suming up all the storage layers, using the following formula:\n",
    "\n",
    "$$M_{E} = \\sum_{n=1}^{N} \\rho_{i} \\cdot V_{i} \\cdot C_{p,i} \\cdot (T_{i} - T_{ref}) \\cdot z_{i} \\tag{2}$$\n",
    "\n",
    "Where $n$ is a storage layer and $N$ is the total number of layers in the storage. For each layer, $\\rho_{i}$ is the density of water, $V_{i}$ is the volume of water, $T_{i}$ is the water temperatrue, $T_{ref}$ is the selected reference temperature (aka the temperature at which the storage is considered empty), $C_{p,i}$ is the specific heat of water and $z_{i}$ is the distance from the center of the layer to the bottom of the storage.\n",
    "\n"
   ]
  },
  {
   "cell_type": "markdown",
   "id": "ae9e332a-9453-495c-908f-9d4b32e2d011",
   "metadata": {},
   "source": [
    "First the energy content of the investigated storage is calculated."
   ]
  },
  {
   "cell_type": "code",
   "execution_count": 4,
   "id": "8ece5ade-ad39-427b-acfb-65ec22d844f7",
   "metadata": {},
   "outputs": [],
   "source": [
    "T_ref = T_cold # reference temperature for calculating energy\n",
    "\n",
    "Q_storage = (density_water * volume_per_layer * specific_heat_water * (df - T_ref)).sum(axis='columns') # energy content of storage"
   ]
  },
  {
   "cell_type": "markdown",
   "id": "d41d57fc-373c-484f-9efd-d03053a19556",
   "metadata": {},
   "source": [
    "The moment of energy is calculated for a fully mixed storage. The temperature of the fully mixed storage is the average temperature of the actual storage for each timestep. The volume of the mixed storage ($V_{min}$) is essentially equal with the volume of the actual storage. The distance from the middle of the volume to the bottom of the storage is in this case, due to the simplified geoemtry, equal to half the height of the actual storage."
   ]
  },
  {
   "cell_type": "code",
   "execution_count": 5,
   "id": "4653198c-c986-4b63-b973-2cad8c61da42",
   "metadata": {},
   "outputs": [],
   "source": [
    "T_avg = (df*mass_per_layer/storage_mass).sum(axis=1) # weighted average temperature of mixed storage\n",
    "\n",
    "V_mix = Q_storage/(density_water * specific_heat_water * (T_avg - T_ref)) # volume of mixed storage using the energy content of the actual storage\n",
    "\n",
    "dist_mix = storage_height/2 # distance from the bottom of the storage to the middle of the V_mix (=storage_height)\n",
    "\n",
    "M_mix = density_water * specific_heat_water * V_mix * (T_avg - T_ref) * dist_mix # moment of energy for fully mixed storage"
   ]
  },
  {
   "cell_type": "markdown",
   "id": "73c3470c-4814-4ecd-b0ef-e01b46e30679",
   "metadata": {},
   "source": [
    "The perfeclty stratified storage is defined as a strorage that has the same energy content with the actual storage but has always the highest possible temperature ($T_{hot}$) at the top. The volume of the storage that is not used by this temprature is assumed to have the lowest possible temperature ($T_{ref} = T_{cold}$) and thus no energy content."
   ]
  },
  {
   "cell_type": "code",
   "execution_count": 6,
   "id": "5ca2a076-97a5-4daf-a7c8-7f0829310f02",
   "metadata": {},
   "outputs": [],
   "source": [
    "V_hot = Q_storage/(density_water * specific_heat_water * (T_hot - T_ref)) # volume of hot water in the stratified storage using energy content of actual storage\n",
    "\n",
    "dist_hot = storage_height - (V_hot/storage_volume)/2 # distance from the bottom of the storage\n",
    "\n",
    "M_strat = density_water * V_hot * specific_heat_water * (T_hot - T_ref) * dist_hot # Moment of energy for stratified tank"
   ]
  },
  {
   "cell_type": "markdown",
   "id": "7370e4f6-7de0-4145-8e2b-bccf933e5e65",
   "metadata": {},
   "source": [
    "Calculation of the moment of energy for the actual storage."
   ]
  },
  {
   "cell_type": "code",
   "execution_count": 7,
   "id": "e50733ae-de4e-4ac2-ab63-e5f303a2c7db",
   "metadata": {},
   "outputs": [],
   "source": [
    "dist = np.arange(1/N/2, 1, 1/N)[::-1] # Make an array with the distances of each layer from the bottom of the storage\n",
    "\n",
    "M_exp = density_water * volume_per_layer* dist * specific_heat_water * (df - T_ref) # Moment of energy for the actual storage"
   ]
  },
  {
   "cell_type": "markdown",
   "id": "eadd4339-047b-40a8-af55-73ab6ac40aee",
   "metadata": {},
   "source": [
    "Calculation of the MIX number for the storage using equation $(1)$."
   ]
  },
  {
   "cell_type": "code",
   "execution_count": 8,
   "id": "6306eead-d5c3-490d-ad2a-79826be18619",
   "metadata": {},
   "outputs": [],
   "source": [
    "MIX = (M_strat - M_exp.sum(axis=1)) / (M_strat - M_mix)"
   ]
  },
  {
   "cell_type": "markdown",
   "id": "76f76e55-d80a-4b6d-b4ba-b4a7876ac7cb",
   "metadata": {},
   "source": [
    "Plot of the MIX number along with the energy content of the storage."
   ]
  },
  {
   "cell_type": "code",
   "execution_count": 9,
   "id": "95abb391-872f-4207-a37e-a9d79c185357",
   "metadata": {},
   "outputs": [
    {
     "data": {
      "text/plain": [
       "(0.0, 1.0)"
      ]
     },
     "execution_count": 9,
     "metadata": {},
     "output_type": "execute_result"
    },
    {
     "data": {
      "image/png": "[encoded data removed]",
      "text/plain": [
       "<Figure size 864x360 with 2 Axes>"
      ]
     },
     "metadata": {
      "needs_background": "light"
     },
     "output_type": "display_data"
    }
   ],
   "source": [
    "fig, axes = plt.subplots(nrows=2, sharex=True, figsize=(12,5))\n",
    "MIX.plot(ax=axes[0])\n",
    "Q_storage.plot(ax=axes[1])\n",
    "axes[0].set_ylim(0,1)"
   ]
  },
  {
   "cell_type": "code",
   "execution_count": null,
   "id": "0ee2a260-4d3d-49f9-8af3-9f773f2cf140",
   "metadata": {},
   "outputs": [],
   "source": []
  },
  {
   "cell_type": "markdown",
   "id": "93474c31-771f-4bd9-8414-45e894c98450",
   "metadata": {},
   "source": [
    "## Comments on MIX number\n",
    "\n",
    "The MIX number is strongly affected by the selection of the arbitrary $T_{ref}$. It is suggested that the selected reference temperature should be equal to the lowest temperatrue of the storage (aka when the storage is considered empty). However, for heat storages with solar thermal collectors and heat pump (e.g. Dronninglund, Marstal), it is not straightforward to select the reference temperatue since the storage has two cold levels.\n",
    "\n",
    "The MIX number is affected by the energy content of the storage. At high (fully charged) and low (fully discharged) energy contents large spikes can be noticed in the MIX number, because a fully charged and discharged storage is considered as not being stratified.\n",
    "\n",
    "Last, the MIX number is instantaneous indication of the conditions in the storage and cannot be averaged for assessing the performance of the storage for a longer period.\n",
    "\n",
    "It is not possible to use the \"fully_mixed\" and \"fully_stratified\" simulated_scenarios for the calculation of the MIX number in combination with the \"actual\" case. The reason is that the charge and discharge in these cases happens at a different time so mathmatical operations cannot be done between them (e.g. to subtract and divide them). This is why the reference scenarios have to be calculated based on the experimental storage, so that thtey have the same time for the charge an discharge."
   ]
  },
  {
   "cell_type": "code",
   "execution_count": null,
   "id": "8fa4320f-aabd-4188-809c-e8b27db438c0",
   "metadata": {},
   "outputs": [],
   "source": []
  },
  {
   "cell_type": "code",
   "execution_count": null,
   "id": "7bb00530-786a-4ad0-ab68-c9de9166fe0d",
   "metadata": {},
   "outputs": [],
   "source": []
  },
  {
   "cell_type": "code",
   "execution_count": null,
   "id": "6a4133b0-56ca-482f-b6ec-c4ededf3ed75",
   "metadata": {},
   "outputs": [],
   "source": []
  },
  {
   "cell_type": "code",
   "execution_count": null,
   "id": "828261fd-0ee0-4326-951e-ceccf3c0b329",
   "metadata": {},
   "outputs": [],
   "source": []
  }
 ],
 "metadata": {
  "kernelspec": {
   "display_name": "Python 3 (ipykernel)",
   "language": "python",
   "name": "python3"
  },
  "language_info": {
   "codemirror_mode": {
    "name": "ipython",
    "version": 3
   },
   "file_extension": ".py",
   "mimetype": "text/x-python",
   "name": "python",
   "nbconvert_exporter": "python",
   "pygments_lexer": "ipython3",
   "version": "3.9.7"
  }
 },
 "nbformat": 4,
 "nbformat_minor": 5
}
