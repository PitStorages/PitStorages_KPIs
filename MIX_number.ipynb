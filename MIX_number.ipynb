{
 "cells": [
  {
   "cell_type": "markdown",
   "id": "f3bd6470-0493-41a8-ba05-22050b1b5be3",
   "metadata": {},
   "source": [
    "# MIX number calculation\n",
    "\n",
    "The MIX numner evauates stratification based on the temperature profile in the storage and the energy content of the storage and it is determined using the moment of energy $(M_{E})$. This number is defined as the difference in moment of energy between a perfectly stratified storage and an actual storage, to the difference in moment of energy between a perfeclty stratified storage and a fully mixed one. It is expressed by the following euqation:\n",
    "\n",
    "$$MIX = \\frac{M_{E}^{stratified} - M_{E}^{actual}}{M_{E}^{stratified} - M_{E}^{fully-mixed}} \\tag{1}$$\n",
    "\n",
    "MIX number is a dimensionless number, where $0$ represents a perfeclty stratified tank, while $1$ indicates a fully-mixed tank. For the calculations, the sotrage is divided in to layers based on the number of temperature measurements.The moment of energy $(M_{E})$, is calculated by suming up all the storage layers, using the following formula:\n",
    "\n",
    "$$M_{E} = \\sum_{n=1}^{N} \\rho_{i} \\cdot V_{i} \\cdot C_{p,i} \\cdot (T_{i} - T_{ref}) \\cdot z_{i} \\tag{2}$$\n",
    "\n",
    "Where $n$ is a storage layer and $N$ is the total number of layers in the storage. For each layer, $\\rho_{i}$ is the density of water, $V_{i}$ is the volume of water, $T_{i}$ is the water temperatrue, $C_{p,i}$ is the specific heat of water and $z_{i}$ is the distance from the center of the layer to the bottom of the storage.\n",
    "\n",
    "**Mention also the stratified and fully mixed ideal cases!**"
   ]
  },
  {
   "cell_type": "code",
   "execution_count": 15,
   "id": "608702d4-db8e-4c78-abc2-20ecabad8cd6",
   "metadata": {},
   "outputs": [],
   "source": [
    "import pandas as pd\n",
    "import numpy as np\n",
    "import matplotlib.pyplot as plt"
   ]
  },
  {
   "cell_type": "code",
   "execution_count": 16,
   "id": "b1109f90-9fa1-4c2b-8b44-9dbc9378428c",
   "metadata": {},
   "outputs": [],
   "source": [
    "# %% Notes\n",
    "# Alaternatively have a number of nodes in the top and bottom to fully mix to\n",
    "# to simulate the imperfect diffusers. Then have smaller amount of mnodes to\n",
    "# mix in the storage, e.g., simulate real water conduction\n",
    "# Another note\n",
    "\n",
    "# Ended up using rolling mean to simulate mixing\n",
    "\n",
    "# To ensure no energy losses, mixing nodes has to be divisble by N?\n",
    "\n",
    "# To do\n",
    "# Calculate energy in or out?\n",
    "# Heat losses\n",
    "\n",
    "\n",
    "# Mix number is garbage because you need to set arbitrary T_ref, which actually\n",
    "# has a big impact. For storages with solar thermal and hp (aka. two cold levels)\n",
    "# this cannot work.\n",
    "# Second problem with MIX number is that it is affected by the energy content...\n",
    "# at high or low energy content, has problems.. does not perform well when close to being full or empty\n",
    "# Mix number is instantenous - i.e., does not give info of period\n",
    "\n",
    "# Hypothesis - as water get's cleaned out - stratification should increase?"
   ]
  },
  {
   "cell_type": "code",
   "execution_count": 27,
   "id": "b27b131c-7cc5-4a13-ba1e-a3d85a7bc342",
   "metadata": {},
   "outputs": [],
   "source": [
    "# General\n",
    "N = 5000 # Number of nodes in the storage\n",
    "charge_time = 7*24  # Approximate\n",
    "discharge_time = 7*24  # Approximate\n",
    "\n",
    "# Water proprties\n",
    "density_water = 980 # in kg/m3\n",
    "specific_heat_water = 4200  # in J/(kg K)\n",
    "\n",
    "# Time periods\n",
    "simulation_period = 700 #8760  # number of hours\n",
    "time_step = 1  # time step in hours\n",
    "no_time_steps = int(simulation_period / time_step) # number of timesteps\n",
    "times = np.arange(no_time_steps)*time_step  # array of time steps in hours\n",
    "\n",
    "# Nodes used for mixing, charge and discharge\n",
    "mixing_nodes = 1001  # uneven number! - gives the number of nodes that will be mixed (average temperature) at each timestep\n",
    "# finds the half of the mixing nodes. These nodes are set to NaN by the rolling window,\n",
    "# so is used for replacing the NaNs with actual temperature values\n",
    "mixing_half_nodes = int(((mixing_nodes-1)/2))\n",
    "charge_nodes = np.max([int(np.round(N/(charge_time/time_step))), 1]) # number of nodes charged each time step (avoid numerical diffusion)\n",
    "discharge_nodes = np.max([int(np.round(N/(discharge_time/time_step))), 1]) # number of nodes discharged each time step (to avoid numerical diffusion)\n",
    "\n",
    "# Temperatures\n",
    "T_hot = 90 # charge temperature\n",
    "T_cold = 45 # discharge temperature\n",
    "T_threshold = 10 # sets a threshold for the maximum/minimum temperature that can be during charge/discharge at the top and bottom of the tank\n",
    "\n",
    "# Initialize the storage as empty\n",
    "T_start = T_cold\n",
    "temp = pd.Series(np.ones(N)*T_start)\n",
    "temp_mix = temp"
   ]
  },
  {
   "cell_type": "code",
   "execution_count": 28,
   "id": "280037de-1fbb-4202-95c9-b3450c44dbc9",
   "metadata": {
    "tags": []
   },
   "outputs": [],
   "source": [
    "# Set the case that will be simulated, e.g. \"fully_mixed\", \"fully_stratified\".\n",
    "# Otherwise, it simulates storage operation with mixing based on mixing_nodes.\n",
    "case = ''#'fully_stratified'\n",
    "plot = False\n",
    "dfl = []\n",
    "\n",
    "charging = 1  # Initialize storage as charging\n",
    "for ii, t in enumerate(times):\n",
    "    # Check if charging or discharging\n",
    "    if (temp.iloc[-1] >= T_hot - T_threshold) & (charging == 1):\n",
    "        charging = 0  # discharging\n",
    "    elif (temp.iloc[0] <= T_cold + T_threshold) & (charging == 0):\n",
    "        charging = 1  # charging\n",
    "\n",
    "    # Charge or discharge, i.e., add hot water to the top or cold water to the bottom\n",
    "    shift = charge_nodes*charging - discharge_nodes*(1-charging)\n",
    "    temp = temp.shift(shift).fillna(T_hot*charging + T_cold*(1-charging))\n",
    "\n",
    "    # Mixing - use pandas rolling (min_periods=1 avoids NaN at ends)\n",
    "    # Results in very small difference in avg. temperature\n",
    "    if case == 'fully_mixed':\n",
    "        temp_mix[:] = np.mean(temp)\n",
    "    elif case == 'fully_stratified':\n",
    "        temp_mix = temp\n",
    "    else:\n",
    "        temp_mix = temp.rolling(mixing_nodes, win_type='boxcar', center=True, min_periods=mixing_nodes).mean()\n",
    "        if charging:\n",
    "            temp_mix[:mixing_half_nodes] = np.mean(temp[:mixing_half_nodes])\n",
    "            temp_mix[-mixing_half_nodes:] = temp[-mixing_half_nodes:]\n",
    "        else:\n",
    "            temp_mix[-mixing_half_nodes:] = np.mean(temp[-mixing_half_nodes:])\n",
    "            temp_mix[:mixing_half_nodes] = temp[:mixing_half_nodes]\n",
    "\n",
    "    temp = temp_mix\n",
    "    dfl.append(temp)\n",
    "\n",
    "    # Plot\n",
    "    if plot:\n",
    "        if np.mod(ii, 25) == 0:\n",
    "            plt.plot(temp[::-1], np.linspace(0,1,len(temp)))\n",
    "            plt.xlim(40,100)\n",
    "            plt.ylim(0,1)\n",
    "            plt.show()"
   ]
  },
  {
   "cell_type": "code",
   "execution_count": 29,
   "id": "7357d8c5-dd29-4d40-9096-b0ab48a72346",
   "metadata": {},
   "outputs": [],
   "source": [
    "# Create dataframe containing the temperature profiles for each time step.\n",
    "# Rows are the simulation time steps and columns are the layers of the storage starting from the top (0) to the bottom (N).\n",
    "df = pd.concat(dfl, axis=1).T"
   ]
  },
  {
   "cell_type": "markdown",
   "id": "ae9e332a-9453-495c-908f-9d4b32e2d011",
   "metadata": {},
   "source": [
    "First the energy content of the investigated storage is calculated. In order to perform this operation, a reference temperature has to be selected ($T_{ref}$). This temperature should be equal to the lowest temperature reached in the storage. "
   ]
  },
  {
   "cell_type": "code",
   "execution_count": 30,
   "id": "8ece5ade-ad39-427b-acfb-65ec22d844f7",
   "metadata": {},
   "outputs": [],
   "source": [
    "volume_per_layer = 1/N # assuming that the storage is a cube 1x1x1 m\n",
    "\n",
    "T_ref = T_cold # reference temperature for calculating energy\n",
    "\n",
    "Q_storage = (density_water * volume_per_layer * specific_heat_water * (df - T_ref)).sum(axis='columns') # energy content of storage"
   ]
  },
  {
   "cell_type": "markdown",
   "id": "d41d57fc-373c-484f-9efd-d03053a19556",
   "metadata": {},
   "source": [
    "The moment of energy is calculated for a fully mixed storage. The temperature of the fully mixed storage is the average temperature of the actual storage for each timestep. The volume of the mixed storage ($V_{min}$) is essentially equal with the volume of the actual storage. The distance from the middle of the volume to the bottom of the storage is in this case, due to the simplified geoemtry, equal to half the height of the actual storage."
   ]
  },
  {
   "cell_type": "code",
   "execution_count": 31,
   "id": "4653198c-c986-4b63-b973-2cad8c61da42",
   "metadata": {},
   "outputs": [],
   "source": [
    "T_avg = df.mean(axis='columns') # temperature of mixed storage (average temperature)\n",
    "\n",
    "V_mix = Q_storage/(density_water * specific_heat_water * (T_avg - T_ref)) # volume of mixed storage using the energy content of the actual storage\n",
    "\n",
    "dist_mix = V_mix/2 # distance from the bottom of the storage to the middle of the V_mix\n",
    "\n",
    "M_mix = density_water * specific_heat_water * V_mix * T_avg * dist_mix # # moment of energy for fully mixed storage"
   ]
  },
  {
   "cell_type": "markdown",
   "id": "73c3470c-4814-4ecd-b0ef-e01b46e30679",
   "metadata": {},
   "source": [
    "The perfeclty stratified storage is defined as a strorage that has the same energy content with the actual storage but has always the highest possible temperature ($T_{hot}$) at the top. THe volume of the storage that is not used by this temprature is assumed to have the lowest possible temperature ($T_{cold}$) and thus no energy content."
   ]
  },
  {
   "cell_type": "code",
   "execution_count": 32,
   "id": "5ca2a076-97a5-4daf-a7c8-7f0829310f02",
   "metadata": {},
   "outputs": [],
   "source": [
    "V_hot = Q_storage/(density_water * specific_heat_water * (T_hot - T_ref)) # volume of hot water in the stratified storage using energy content of actual storage\n",
    "\n",
    "dist_hot = 1 - V_hot/2 # distance from the bottom of the storage\n",
    "\n",
    "M_strat = density_water * V_hot * specific_heat_water * T_hot * dist_hot # Moment of energy for stratified tank"
   ]
  },
  {
   "cell_type": "markdown",
   "id": "7370e4f6-7de0-4145-8e2b-bccf933e5e65",
   "metadata": {},
   "source": [
    "Calculation of the moment of energy for the actual storage."
   ]
  },
  {
   "cell_type": "code",
   "execution_count": 33,
   "id": "e50733ae-de4e-4ac2-ab63-e5f303a2c7db",
   "metadata": {},
   "outputs": [],
   "source": [
    "dist = np.arange(1/N/2, 1, 1/N)[::-1] # Make a list with the distances of each layer from the bottom of the storage\n",
    "\n",
    "M_exp = density_water * volume_per_layer* dist * specific_heat_water * df # Moment of energy for the actual storage"
   ]
  },
  {
   "cell_type": "markdown",
   "id": "eadd4339-047b-40a8-af55-73ab6ac40aee",
   "metadata": {},
   "source": [
    "Calculation of the MIX number for the storage using equation $(1)$."
   ]
  },
  {
   "cell_type": "code",
   "execution_count": 34,
   "id": "6306eead-d5c3-490d-ad2a-79826be18619",
   "metadata": {},
   "outputs": [],
   "source": [
    "MIX = (M_strat - M_exp.sum(axis=1)) / (M_strat - M_mix)"
   ]
  },
  {
   "cell_type": "markdown",
   "id": "76f76e55-d80a-4b6d-b4ba-b4a7876ac7cb",
   "metadata": {},
   "source": [
    "Plot of the MIX number along with the energy cintent of the storage."
   ]
  },
  {
   "cell_type": "code",
   "execution_count": 35,
   "id": "eab34f92-696a-4946-a01a-24224e8b5d16",
   "metadata": {},
   "outputs": [
    {
     "data": {
      "text/plain": [
       "(0.0, 1.0)"
      ]
     },
     "execution_count": 35,
     "metadata": {},
     "output_type": "execute_result"
    },
    {
     "data": {
      "image/png": "[encoded data removed]",
      "text/plain": [
       "<Figure size 432x288 with 2 Axes>"
      ]
     },
     "metadata": {
      "needs_background": "light"
     },
     "output_type": "display_data"
    }
   ],
   "source": [
    "fig, axes = plt.subplots(nrows=2, sharex=True)\n",
    "MIX.plot(ax=axes[0])\n",
    "Q_storage.plot(ax=axes[1])\n",
    "axes[0].set_ylim(0,1)\n",
    "#axes[-1].set_xlim(0,430)"
   ]
  },
  {
   "cell_type": "code",
   "execution_count": 36,
   "id": "1e59856e-6a92-4490-b270-91881db56ee3",
   "metadata": {},
   "outputs": [
    {
     "data": {
      "text/plain": [
       "<matplotlib.legend.Legend at 0x232c512bf10>"
      ]
     },
     "execution_count": 36,
     "metadata": {},
     "output_type": "execute_result"
    },
    {
     "data": {
      "image/png": "[encoded data removed]",
      "text/plain": [
       "<Figure size 432x288 with 1 Axes>"
      ]
     },
     "metadata": {
      "needs_background": "light"
     },
     "output_type": "display_data"
    }
   ],
   "source": [
    "fig, ax = plt.subplots()\n",
    "M_strat.plot(ax=ax, label='Stratified')\n",
    "M_exp.sum(axis=1).plot(ax=ax, label='Actual')\n",
    "M_mix.plot(ax=ax, label='Mixed')\n",
    "\n",
    "ax.legend()"
   ]
  },
  {
   "cell_type": "code",
   "execution_count": null,
   "id": "0ee2a260-4d3d-49f9-8af3-9f773f2cf140",
   "metadata": {},
   "outputs": [],
   "source": []
  },
  {
   "cell_type": "code",
   "execution_count": null,
   "id": "8fa4320f-aabd-4188-809c-e8b27db438c0",
   "metadata": {},
   "outputs": [],
   "source": []
  }
 ],
 "metadata": {
  "kernelspec": {
   "display_name": "Python 3",
   "language": "python",
   "name": "python3"
  },
  "language_info": {
   "codemirror_mode": {
    "name": "ipython",
    "version": 3
   },
   "file_extension": ".py",
   "mimetype": "text/x-python",
   "name": "python",
   "nbconvert_exporter": "python",
   "pygments_lexer": "ipython3",
   "version": "3.8.8"
  }
 },
 "nbformat": 4,
 "nbformat_minor": 5
}
